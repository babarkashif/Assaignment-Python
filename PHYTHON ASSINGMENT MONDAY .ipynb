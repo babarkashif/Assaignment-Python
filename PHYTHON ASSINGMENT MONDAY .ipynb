{
 "cells": [
  {
   "cell_type": "code",
   "execution_count": 1,
   "metadata": {},
   "outputs": [
    {
     "name": "stdout",
     "output_type": "stream",
     "text": [
      "Twinkle, twinkle, little star\n",
      "      How I Wonder what you are!\n",
      "               Up above the world so high,\n",
      "                  Like a daimond in th sky.\n",
      "Twinkle, twinkle, little star\n",
      "      How I Wonder what you are!\n"
     ]
    }
   ],
   "source": [
    "##qs 01\n",
    "print('Twinkle, twinkle, little star')\n",
    "print('      How I Wonder what you are!')\n",
    "print('               Up above the world so high,')\n",
    "print('                  Like a daimond in th sky.')\n",
    "print('Twinkle, twinkle, little star')\n",
    "print('      How I Wonder what you are!')\n"
   ]
  },
  {
   "cell_type": "code",
   "execution_count": null,
   "metadata": {},
   "outputs": [],
   "source": []
  },
  {
   "cell_type": "code",
   "execution_count": 3,
   "metadata": {},
   "outputs": [
    {
     "name": "stdout",
     "output_type": "stream",
     "text": [
      "phython version is\n",
      "3.7.1 (default, Dec 10 2018, 22:09:34) [MSC v.1915 32 bit (Intel)]\n",
      "version info.\n",
      "sys.version_info(major=3, minor=7, micro=1, releaselevel='final', serial=0)\n"
     ]
    }
   ],
   "source": [
    "\n",
    "#qs 02\n",
    "import sys\n",
    "print('phython version is')\n",
    "print(sys.version)\n",
    "print('version info.')\n",
    "print(sys.version_info)\n"
   ]
  },
  {
   "cell_type": "code",
   "execution_count": 4,
   "metadata": {},
   "outputs": [
    {
     "name": "stdout",
     "output_type": "stream",
     "text": [
      "todays date and time is 2019-11-04 08:20:05.029420\n"
     ]
    }
   ],
   "source": [
    "#qs 03\n",
    "\n",
    "import datetime \n",
    "dt = datetime.datetime.now()\n",
    "print('todays date and time is' , dt)\n",
    "\n",
    "\n"
   ]
  },
  {
   "cell_type": "code",
   "execution_count": 5,
   "metadata": {},
   "outputs": [
    {
     "name": "stdout",
     "output_type": "stream",
     "text": [
      "Enter radius of circle2\n",
      "Area of circle is 12.56\n"
     ]
    }
   ],
   "source": [
    "#qs 04\n",
    "\n",
    "x=int(input('Enter radius of circle'))\n",
    "q=x*x\n",
    "a=(3.14*q)\n",
    "print('Area of circle is' , a)"
   ]
  },
  {
   "cell_type": "code",
   "execution_count": 6,
   "metadata": {},
   "outputs": [
    {
     "name": "stdout",
     "output_type": "stream",
     "text": [
      "enter the nameusama\n",
      "amasu\n"
     ]
    }
   ],
   "source": [
    "#qs 05\n",
    "\n",
    "q = str(input('enter the name'))\n",
    "a=q[::-1]\n",
    "print(a)"
   ]
  },
  {
   "cell_type": "code",
   "execution_count": 7,
   "metadata": {},
   "outputs": [
    {
     "name": "stdout",
     "output_type": "stream",
     "text": [
      "enter first value5\n",
      "enter second value5\n",
      "10\n"
     ]
    }
   ],
   "source": [
    "#qs 06\n",
    "\n",
    "x=int(input('enter first value'))\n",
    "y=int(input('enter second value'))\n",
    "print(x+y)"
   ]
  },
  {
   "cell_type": "markdown",
   "metadata": {},
   "source": []
  },
  {
   "cell_type": "code",
   "execution_count": null,
   "metadata": {},
   "outputs": [],
   "source": []
  }
 ],
 "metadata": {
  "kernelspec": {
   "display_name": "Python 3",
   "language": "python",
   "name": "python3"
  },
  "language_info": {
   "codemirror_mode": {
    "name": "ipython",
    "version": 3
   },
   "file_extension": ".py",
   "mimetype": "text/x-python",
   "name": "python",
   "nbconvert_exporter": "python",
   "pygments_lexer": "ipython3",
   "version": "3.7.1"
  }
 },
 "nbformat": 4,
 "nbformat_minor": 2
}
